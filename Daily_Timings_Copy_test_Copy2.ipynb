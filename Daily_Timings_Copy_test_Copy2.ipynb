{
  "nbformat": 4,
  "nbformat_minor": 0,
  "metadata": {
    "accelerator": "GPU",
    "colab": {
      "name": "Daily Timings-Copy_test-Copy2.ipynb",
      "provenance": [],
      "collapsed_sections": [
        "1pbZPll60bGF",
        "sr5CRc53IFdU"
      ],
      "include_colab_link": true
    },
    "kernelspec": {
      "display_name": "Python 3",
      "language": "python",
      "name": "python3"
    },
    "language_info": {
      "codemirror_mode": {
        "name": "ipython",
        "version": 3
      },
      "file_extension": ".py",
      "mimetype": "text/x-python",
      "name": "python",
      "nbconvert_exporter": "python",
      "pygments_lexer": "ipython3",
      "version": "3.7.7"
    }
  },
  "cells": [
    {
      "cell_type": "markdown",
      "metadata": {
        "id": "view-in-github",
        "colab_type": "text"
      },
      "source": [
        "<a href=\"https://colab.research.google.com/github/sudhir108/patil/blob/master/Daily_Timings_Copy_test_Copy2.ipynb\" target=\"_parent\"><img src=\"https://colab.research.google.com/assets/colab-badge.svg\" alt=\"Open In Colab\"/></a>"
      ]
    },
    {
      "cell_type": "code",
      "metadata": {
        "id": "XqNs6sji2S1O"
      },
      "source": [
        "pip install fuzzywuzzy"
      ],
      "execution_count": null,
      "outputs": []
    },
    {
      "cell_type": "code",
      "metadata": {
        "id": "Zj3P0acb0bFP"
      },
      "source": [
        "import nltk\n",
        "nltk.download('stopwords')\n",
        "nltk.download('wordnet')\n",
        "nltk.download('punkt')\n",
        "from nltk.tokenize import word_tokenize\n",
        "import spacy\n",
        "from spacy.tokens import Span\n",
        "nlp = spacy.load(\"en_core_web_sm\")\n",
        "import pandas as pd\n",
        "import time\n",
        "\n",
        "import datetime\n",
        "from fuzzywuzzy import fuzz\n",
        "from fuzzywuzzy import process\n",
        "\n",
        "from nltk.tokenize import RegexpTokenizer\n",
        "from nltk.stem import WordNetLemmatizer,PorterStemmer\n",
        "from nltk.corpus import stopwords\n",
        "import re\n"
      ],
      "execution_count": null,
      "outputs": []
    },
    {
      "cell_type": "code",
      "metadata": {
        "id": "WFeRrZLF0bFT"
      },
      "source": [
        "file_name='./Nov 4_Election snaps.xlsx'\n",
        "out='./Nov 4_Election snaps_out.xlsx'\n",
        " \n",
        "client_df = pd.read_excel(file_name,sheet_name='RTRS')\n",
        "BBG_df = pd.read_excel(file_name,sheet_name='BBG')\n",
        "#client_df=client_df[client_df.Analyst==analyst_name]"
      ],
      "execution_count": null,
      "outputs": []
    },
    {
      "cell_type": "code",
      "metadata": {
        "id": "7FLdZq5t0bFX",
        "colab": {
          "background_save": true
        }
      },
      "source": [
        "lemmatizer = WordNetLemmatizer()\n",
        "stemmer = PorterStemmer() \n",
        "\n",
        "def preprocess(sentence):\n",
        "    sentence=str(sentence)\n",
        "    sentence = sentence.lower()\n",
        "    sentence=sentence.replace('{html}',\"\") \n",
        "    cleanr = re.compile('<:*?>')\n",
        "    cleantext = re.sub(cleanr, '', sentence)\n",
        "    rem_url=re.sub(r'http\\S+', '',cleantext)\n",
        "    rem_num = re.sub('[0-9]+', '', rem_url)\n",
        "    tokenizer = RegexpTokenizer(r'\\w+')\n",
        "    tokens = tokenizer.tokenize(rem_num)  \n",
        "    filtered_words = [w for w in tokens if len(w) > 2 if not w in stopwords.words('english')]\n",
        "    stem_words=[stemmer.stem(w) for w in filtered_words]\n",
        "    lemma_words=[lemmatizer.lemmatize(w) for w in stem_words]\n",
        "    return \" \".join(filtered_words)\n",
        "\n",
        "\n",
        "client_df['RTRScleanText']=client_df['r message'].map(lambda s:preprocess(s)) \n",
        "BBG_df['BBGcleanText']=BBG_df['headline'].map(lambda s:preprocess(s)) "
      ],
      "execution_count": null,
      "outputs": []
    },
    {
      "cell_type": "code",
      "metadata": {
        "id": "HZsIVwlp0bFZ",
        "colab": {
          "background_save": true
        }
      },
      "source": [
        "client_df['hour_minute_RTRS'] = pd.to_datetime(client_df['r msg dt'], format='%d/%m/%Y %H:%M:%S').sort_values()\n",
        "\n",
        "BBG_df['hour_minute_BBG'] = pd.to_datetime(BBG_df['time'], errors='coerce')\n",
        "\n",
        "\n",
        "\n",
        "BBG_df['hour_minute_BBG1']=BBG_df['hour_minute_BBG'].dt.hour \n",
        "client_df['hour_minute_RTRS1']=client_df['hour_minute_RTRS'].dt.hour"
      ],
      "execution_count": null,
      "outputs": []
    },
    {
      "cell_type": "code",
      "metadata": {
        "id": "hTdvG2GM0bFb",
        "colab": {
          "background_save": true
        }
      },
      "source": [
        "data_after_the_matching_timings=pd.DataFrame()\n",
        "BBG=[]\n",
        "RTRS=[]\n",
        "\n",
        "timex=0\n",
        "less_time=0\n",
        "more_time=0\n",
        "BBG_time=[]\n",
        "RTRS_time=[]\n",
        "count=0\n",
        "\n",
        "for a,b in zip(client_df['hour_minute_RTRS1'], client_df['RTRScleanText']): \n",
        "    \n",
        "    timex=a\n",
        "    \n",
        "    less_time=timex-1\n",
        "    more_time=timex+1\n",
        "        \n",
        "    for x,y in zip(BBG_df['hour_minute_BBG1'], BBG_df['BBGcleanText']):\n",
        "\n",
        "        if x >less_time and x< more_time:\n",
        "            count=count+1\n",
        "            RTRS.append(b)\n",
        "            BBG.append(y)\n",
        "            BBG_time.append(x)\n",
        "            RTRS_time.append(a)\n",
        "            #print('times: ',count,a,less_time,more_time,x)\n",
        "        else:\n",
        "            continue\n",
        "data_after_the_matching_timings['RTRS']=RTRS\n",
        "data_after_the_matching_timings['BBG']=BBG"
      ],
      "execution_count": null,
      "outputs": []
    },
    {
      "cell_type": "code",
      "metadata": {
        "id": "KzaUVa_r0bFd",
        "colab": {
          "background_save": true
        }
      },
      "source": [
        "master=data_after_the_matching_timings\n",
        "\n",
        "def get_rate(master):\n",
        "    \n",
        "    x=master['BBG']\n",
        "    y=master['RTRS']\n",
        "    \n",
        "    return fuzz.token_set_ratio(x, y)\n",
        "\n",
        "\n",
        "res=master.apply(get_rate,axis=1)\n",
        "\n",
        "master['res']=res\n",
        "\n",
        "\n",
        "\n",
        "print('len >50',len(master[master['res']>50]))\n",
        "\n",
        "print('len >60',len(master[master['res']>60]))\n"
      ],
      "execution_count": null,
      "outputs": []
    },
    {
      "cell_type": "code",
      "metadata": {
        "id": "XVnxcdcU0bFf",
        "colab": {
          "background_save": true
        }
      },
      "source": [
        "merge00=pd.merge(master,\n",
        "    BBG_df,\n",
        "    how='left',\n",
        "    on=None,\n",
        "    left_on='BBG',\n",
        "    right_on='BBGcleanText'\n",
        ")\n",
        "\n",
        "\n",
        "\n",
        "merge11=pd.merge(merge00,\n",
        "    client_df,\n",
        "    how='left',\n",
        "    on=None,\n",
        "    left_on='RTRS',\n",
        "    right_on='RTRScleanText'\n",
        ")"
      ],
      "execution_count": null,
      "outputs": []
    },
    {
      "cell_type": "code",
      "metadata": {
        "id": "K9Y4JobR0bFh",
        "outputId": "1c85eb4e-c1b5-48a5-92c6-e06692d3f121",
        "colab": {
          "base_uri": "https://localhost:8080/"
        }
      },
      "source": [
        "# master=master[master['res']>50]\n",
        "# master=master.drop_duplicates(subset =\"BBG\")\n",
        "print('We have matchs for the ',len(master.RTRS),'alerts')"
      ],
      "execution_count": null,
      "outputs": [
        {
          "output_type": "stream",
          "text": [
            "We have matchs for the  77029 alerts\n"
          ],
          "name": "stdout"
        }
      ]
    },
    {
      "cell_type": "code",
      "metadata": {
        "id": "uEzIylPq0bFi",
        "colab": {
          "background_save": true
        }
      },
      "source": [
        "# merge11=merge11[merge11['res']>45]\n",
        "merge11.columns"
      ],
      "execution_count": null,
      "outputs": []
    },
    {
      "cell_type": "code",
      "metadata": {
        "id": "S1sbQTmN0bFk",
        "colab": {
          "background_save": true
        }
      },
      "source": [
        "final_merge=merge11"
      ],
      "execution_count": null,
      "outputs": []
    },
    {
      "cell_type": "code",
      "metadata": {
        "id": "ltWg8s_u0bFm",
        "colab": {
          "background_save": true
        }
      },
      "source": [
        "\n",
        "# final_merge=final_merge.drop_duplicates(subset =['r message','hour_minute_RTRS'],keep= 'last')"
      ],
      "execution_count": null,
      "outputs": []
    },
    {
      "cell_type": "code",
      "metadata": {
        "id": "JPOydDxa0bFn",
        "colab": {
          "background_save": true
        }
      },
      "source": [
        "final_merge['RTRS_nums']=[re.findall(r'\\d.\\d*', i)  for i in final_merge['r message']] \n",
        "final_merge['BBG_nums']=[re.findall(r'\\d.\\d*', i)  for i in final_merge['headline']] "
      ],
      "execution_count": null,
      "outputs": []
    },
    {
      "cell_type": "code",
      "metadata": {
        "id": "wJ83JlIr0bFp",
        "colab": {
          "background_save": true
        }
      },
      "source": [
        "\n",
        "\n",
        "\n",
        "per=[]\n",
        "\n",
        "for a,b in zip(final_merge['BBG_nums'],final_merge['RTRS_nums']):\n",
        "    \n",
        "    per.append(len(set(b).intersection(set(a)))+1/min(len(a)+1,len(b)+1))"
      ],
      "execution_count": null,
      "outputs": []
    },
    {
      "cell_type": "code",
      "metadata": {
        "id": "S6GNB2YP0bFr",
        "colab": {
          "background_save": true
        }
      },
      "source": [
        "len(per)"
      ],
      "execution_count": null,
      "outputs": []
    },
    {
      "cell_type": "code",
      "metadata": {
        "id": "rORf2GR70bFs",
        "colab": {
          "background_save": true
        }
      },
      "source": [
        "len(final_merge['RTRS_nums'].values)"
      ],
      "execution_count": null,
      "outputs": []
    },
    {
      "cell_type": "code",
      "metadata": {
        "id": "O2lF1xMQ0bFu",
        "colab": {
          "background_save": true
        }
      },
      "source": [
        "final_merge['per']=per"
      ],
      "execution_count": null,
      "outputs": []
    },
    {
      "cell_type": "code",
      "metadata": {
        "id": "Bi1Mc0Or0bFw",
        "colab": {
          "background_save": true
        }
      },
      "source": [
        "final_merge=final_merge.sort_values(by=['per','res'], ascending=False)"
      ],
      "execution_count": null,
      "outputs": []
    },
    {
      "cell_type": "code",
      "metadata": {
        "id": "tsR8Bx7W0bFy",
        "colab": {
          "background_save": true
        }
      },
      "source": [
        "final_merge=final_merge.drop(columns=['RTRS', 'BBG',  'time','BBGcleanText', 'hour_minute_BBG1', 'r msg dt' ,'RTRScleanText', 'hour_minute_RTRS1',\n",
        "        'RTRS_nums', 'BBG_nums'])"
      ],
      "execution_count": null,
      "outputs": []
    },
    {
      "cell_type": "code",
      "metadata": {
        "id": "0S_VP-F60bF2",
        "colab": {
          "background_save": true
        }
      },
      "source": [
        "# final_merge=final_merge.drop_duplicates(subset=['r message'],keep='first' )\n",
        "# final_merge=final_merge.drop_duplicates(subset=['headline'],keep='first' )"
      ],
      "execution_count": null,
      "outputs": []
    },
    {
      "cell_type": "code",
      "metadata": {
        "id": "kWuzu3s00bF3",
        "colab": {
          "background_save": true
        }
      },
      "source": [
        "#final_merge.to_excel('./Downloads/maches/Oct 4-expected-Matches-Updated 2.xlsx')"
      ],
      "execution_count": null,
      "outputs": []
    },
    {
      "cell_type": "code",
      "metadata": {
        "id": "SG0fd1f80bF5",
        "colab": {
          "background_save": true
        }
      },
      "source": [
        "Result =[]\n",
        "Win_Loss_Margin=[]\n",
        "for i,j in zip(final_merge.hour_minute_BBG,final_merge.hour_minute_RTRS):\n",
        "    if i>j:\n",
        "        Win_Loss_Margin.append(i-j)\n",
        "        Result.append('Win')\n",
        "    elif j>i:\n",
        "        Win_Loss_Margin.append(j-i)\n",
        "        Result.append('Loss')\n",
        "    else:\n",
        "        Win_Loss_Margin.append('00:00:00')\n",
        "        Result.append('Draw')\n",
        "final_merge['Result']=Result\n",
        "final_merge['Win Loss Margin (BBG time - RTRS time)']=Win_Loss_Margin"
      ],
      "execution_count": null,
      "outputs": []
    },
    {
      "cell_type": "code",
      "metadata": {
        "id": "U_IUKkRO0bF7",
        "colab": {
          "background_save": true
        }
      },
      "source": [
        "Timings_ExtractorLogic_oct=pd.read_excel('./Timings-ExtractorLogic.xlsx')"
      ],
      "execution_count": null,
      "outputs": []
    },
    {
      "cell_type": "code",
      "metadata": {
        "id": "k8H1RRrI0bF9",
        "colab": {
          "background_save": true
        }
      },
      "source": [
        "final_merge=pd.merge(final_merge,\n",
        "    Timings_ExtractorLogic_oct,\n",
        "    how='left',\n",
        "    \n",
        "    left_on='rics',\n",
        "    right_on='RIC'\n",
        ")\n",
        "\n"
      ],
      "execution_count": null,
      "outputs": []
    },
    {
      "cell_type": "code",
      "metadata": {
        "id": "42O_YxYD0bF-",
        "colab": {
          "background_save": true
        }
      },
      "source": [
        "final_merge.columns"
      ],
      "execution_count": null,
      "outputs": []
    },
    {
      "cell_type": "code",
      "metadata": {
        "id": "9jdefG-E0bGA",
        "colab": {
          "background_save": true
        }
      },
      "source": [
        "final_merge=final_merge.rename(columns = {'hour_minute_BBG': 'BBG time', 'hour_minute_RTRS':'RTRS Time','RIC':'Extractor logic yes/no','ratio': 'res'}, inplace = False)\n",
        "final_merge=final_merge.drop(columns=['RIC_Name'])\n",
        "final_merge['Extractor logic yes/no']=final_merge['Extractor logic yes/no'].fillna('False')"
      ],
      "execution_count": null,
      "outputs": []
    },
    {
      "cell_type": "code",
      "metadata": {
        "id": "MYC2v0410bGE",
        "colab": {
          "background_save": true
        }
      },
      "source": [
        "final_merge.Result.value_counts()"
      ],
      "execution_count": null,
      "outputs": []
    },
    {
      "cell_type": "markdown",
      "metadata": {
        "id": "1pbZPll60bGF"
      },
      "source": [
        "#### final_merge"
      ]
    },
    {
      "cell_type": "markdown",
      "metadata": {
        "id": "sr5CRc53IFdU"
      },
      "source": [
        "# New Section"
      ]
    },
    {
      "cell_type": "code",
      "metadata": {
        "id": "6hyo3Lu00bGF",
        "colab": {
          "background_save": true
        }
      },
      "source": [
        "final_merge=final_merge.rename(columns={'headline':'BBG headline','r message':'RTRS headline'})"
      ],
      "execution_count": null,
      "outputs": []
    },
    {
      "cell_type": "code",
      "metadata": {
        "id": "LXfUy4LR0bGH",
        "colab": {
          "background_save": true
        }
      },
      "source": [
        "final_merge.columns "
      ],
      "execution_count": null,
      "outputs": []
    },
    {
      "cell_type": "code",
      "metadata": {
        "id": "NRGn_Vcw0bGK",
        "colab": {
          "background_save": true
        }
      },
      "source": [
        "final_merge=final_merge[['r key','BBG headline','BBG time', 'RTRS headline', 'RTRS Time','rics','Topics','pnac', 'Result',\n",
        "       'Win Loss Margin (BBG time - RTRS time)', 'Extractor logic yes/no','per','res']]"
      ],
      "execution_count": null,
      "outputs": []
    },
    {
      "cell_type": "code",
      "metadata": {
        "id": "ClPK4wnn0bGL",
        "colab": {
          "background_save": true
        }
      },
      "source": [
        "final_merge"
      ],
      "execution_count": null,
      "outputs": []
    },
    {
      "cell_type": "code",
      "metadata": {
        "id": "1Nd-LLKD0bGO",
        "colab": {
          "background_save": true
        }
      },
      "source": [
        "final_merge['cnt']=1"
      ],
      "execution_count": null,
      "outputs": []
    },
    {
      "cell_type": "code",
      "metadata": {
        "id": "-WhHCHYg0bGP",
        "colab": {
          "background_save": true
        }
      },
      "source": [
        "idf=final_merge.groupby(['BBG headline'])['per'].transform(max) == final_merge['per']\n",
        "final_merge2=final_merge[idf]\n",
        "final_merge2"
      ],
      "execution_count": null,
      "outputs": []
    },
    {
      "cell_type": "code",
      "metadata": {
        "id": "5pW-6sWG0bGZ",
        "colab": {
          "background_save": true
        }
      },
      "source": [
        "maximums=final_merge2.sort_values(by=['res','per'], ascending=False)\n",
        "final_merge2\n"
      ],
      "execution_count": null,
      "outputs": []
    },
    {
      "cell_type": "code",
      "metadata": {
        "id": "CpZPekii8Gm0",
        "colab": {
          "background_save": true
        }
      },
      "source": [
        "final_merge2=final_merge2.drop_duplicates(subset =\"BBG headline\",keep='first')\n",
        "final_merge2=final_merge2.drop_duplicates(subset =\"RTRS headline\",keep='first')\n",
        "final_merge2"
      ],
      "execution_count": null,
      "outputs": []
    },
    {
      "cell_type": "code",
      "metadata": {
        "id": "ZUHvgwhLJxz-",
        "colab": {
          "background_save": true
        }
      },
      "source": [
        "len(final_merge2[final_merge2.res>50])"
      ],
      "execution_count": null,
      "outputs": []
    },
    {
      "cell_type": "markdown",
      "metadata": {
        "id": "w9fnY_wXN2NQ"
      },
      "source": [
        "End\n",
        "\n"
      ]
    },
    {
      "cell_type": "code",
      "metadata": {
        "id": "Jjd_n30w9-4n"
      },
      "source": [
        "final_merge2.to_excel(out)"
      ],
      "execution_count": null,
      "outputs": []
    }
  ]
}